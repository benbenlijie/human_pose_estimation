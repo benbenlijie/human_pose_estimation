{
 "cells": [
  {
   "cell_type": "code",
   "execution_count": 1,
   "metadata": {},
   "outputs": [
    {
     "name": "stderr",
     "output_type": "stream",
     "text": [
      "Using TensorFlow backend.\n"
     ]
    }
   ],
   "source": [
    "from keras.models import Model\n",
    "from keras.layers.merge import Concatenate\n",
    "from keras.layers import Activation, Input, Lambda\n",
    "from keras.layers.convolutional import Conv2D\n",
    "from keras.layers.pooling import MaxPooling2D\n",
    "from keras.layers.merge import Multiply\n",
    "from keras.regularizers import l2\n",
    "from keras.initializers import random_normal,constant\n",
    "\n",
    "def relu(x): return Activation('relu')(x)\n",
    "\n",
    "def conv(x, nf, ks, name, weight_decay):\n",
    "    kernel_reg = l2(weight_decay[0]) if weight_decay else None\n",
    "    bias_reg = l2(weight_decay[1]) if weight_decay else None\n",
    "\n",
    "    x = Conv2D(nf, (ks, ks), padding='same', name=name,\n",
    "               kernel_regularizer=kernel_reg,\n",
    "               bias_regularizer=bias_reg,\n",
    "               kernel_initializer=random_normal(stddev=0.01),\n",
    "               bias_initializer=constant(0.0))(x)\n",
    "    return x\n",
    "\n",
    "def pooling(x, ks, st, name):\n",
    "    x = MaxPooling2D((ks, ks), strides=(st, st), name=name)(x)\n",
    "    return x\n",
    "\n",
    "def vgg_block(x, weight_decay):\n",
    "    # Block 1\n",
    "    x = conv(x, 64, 3, \"conv1_1\", (weight_decay, 0))\n",
    "    x = relu(x)\n",
    "    x = conv(x, 64, 3, \"conv1_2\", (weight_decay, 0))\n",
    "    x = relu(x)\n",
    "    x = pooling(x, 2, 2, \"pool1_1\")\n",
    "\n",
    "    # Block 2\n",
    "    x = conv(x, 128, 3, \"conv2_1\", (weight_decay, 0))\n",
    "    x = relu(x)\n",
    "    x = conv(x, 128, 3, \"conv2_2\", (weight_decay, 0))\n",
    "    x = relu(x)\n",
    "    x = pooling(x, 2, 2, \"pool2_1\")\n",
    "\n",
    "    # Block 3\n",
    "    x = conv(x, 256, 3, \"conv3_1\", (weight_decay, 0))\n",
    "    x = relu(x)\n",
    "    x = conv(x, 256, 3, \"conv3_2\", (weight_decay, 0))\n",
    "    x = relu(x)\n",
    "    x = conv(x, 256, 3, \"conv3_3\", (weight_decay, 0))\n",
    "    x = relu(x)\n",
    "    x = conv(x, 256, 3, \"conv3_4\", (weight_decay, 0))\n",
    "    x = relu(x)\n",
    "    x = pooling(x, 2, 2, \"pool3_1\")\n",
    "\n",
    "    # Block 4\n",
    "    x = conv(x, 512, 3, \"conv4_1\", (weight_decay, 0))\n",
    "    x = relu(x)\n",
    "    x = conv(x, 512, 3, \"conv4_2\", (weight_decay, 0))\n",
    "    x = relu(x)\n",
    "\n",
    "    # Additional non vgg layers\n",
    "    x = conv(x, 256, 3, \"conv4_3_CPM\", (weight_decay, 0))\n",
    "    x = relu(x)\n",
    "    x = conv(x, 128, 3, \"conv4_4_CPM\", (weight_decay, 0))\n",
    "    x = relu(x)\n",
    "\n",
    "    return x\n",
    "\n",
    "\n",
    "def stage1_block(x, num_p, branch, weight_decay):\n",
    "    # Block 1\n",
    "    x = conv(x, 128, 3, \"Mconv1_stage1_L%d\" % branch, (weight_decay, 0))\n",
    "    x = relu(x)\n",
    "    x = conv(x, 128, 3, \"Mconv2_stage1_L%d\" % branch, (weight_decay, 0))\n",
    "    x = relu(x)\n",
    "    x = conv(x, 128, 3, \"Mconv3_stage1_L%d\" % branch, (weight_decay, 0))\n",
    "    x = relu(x)\n",
    "    x = conv(x, 512, 1, \"Mconv4_stage1_L%d\" % branch, (weight_decay, 0))\n",
    "    x = relu(x)\n",
    "    x = conv(x, num_p, 1, \"Mconv5_stage1_L%d\" % branch, (weight_decay, 0))\n",
    "\n",
    "    return x\n",
    "\n",
    "\n",
    "def stageT_block(x, num_p, stage, branch, weight_decay):\n",
    "    # Block 1\n",
    "    x = conv(x, 128, 7, \"Mconv1_stage%d_L%d\" % (stage, branch), (weight_decay, 0))\n",
    "    x = relu(x)\n",
    "    x = conv(x, 128, 7, \"Mconv2_stage%d_L%d\" % (stage, branch), (weight_decay, 0))\n",
    "    x = relu(x)\n",
    "    x = conv(x, 128, 7, \"Mconv3_stage%d_L%d\" % (stage, branch), (weight_decay, 0))\n",
    "    x = relu(x)\n",
    "    x = conv(x, 128, 7, \"Mconv4_stage%d_L%d\" % (stage, branch), (weight_decay, 0))\n",
    "    x = relu(x)\n",
    "    x = conv(x, 128, 7, \"Mconv5_stage%d_L%d\" % (stage, branch), (weight_decay, 0))\n",
    "    x = relu(x)\n",
    "    x = conv(x, 128, 1, \"Mconv6_stage%d_L%d\" % (stage, branch), (weight_decay, 0))\n",
    "    x = relu(x)\n",
    "    x = conv(x, num_p, 1, \"Mconv7_stage%d_L%d\" % (stage, branch), (weight_decay, 0))\n",
    "\n",
    "    return x"
   ]
  },
  {
   "cell_type": "code",
   "execution_count": 2,
   "metadata": {
    "collapsed": true
   },
   "outputs": [],
   "source": [
    "def apply_mask(x, mask, stage, branch):\n",
    "    w_name = \"weight_stage{}_L{}\".format(stage, branch)\n",
    "    w = Multiply(name=w_name)([x, mask])\n",
    "    return w"
   ]
  },
  {
   "cell_type": "code",
   "execution_count": null,
   "metadata": {
    "collapsed": true
   },
   "outputs": [],
   "source": [
    "def get_training_model(weight_decay):\n",
    "    stages = 6"
   ]
  }
 ],
 "metadata": {
  "kernelspec": {
   "display_name": "Python 3",
   "language": "python",
   "name": "python3"
  },
  "language_info": {
   "codemirror_mode": {
    "name": "ipython",
    "version": 3.0
   },
   "file_extension": ".py",
   "mimetype": "text/x-python",
   "name": "python",
   "nbconvert_exporter": "python",
   "pygments_lexer": "ipython3",
   "version": "3.6.3"
  }
 },
 "nbformat": 4,
 "nbformat_minor": 0
}